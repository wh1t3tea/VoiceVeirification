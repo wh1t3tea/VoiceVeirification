{
  "nbformat": 4,
  "nbformat_minor": 0,
  "metadata": {
    "colab": {
      "provenance": [],
      "mount_file_id": "1inHxTbpalLrma9oHicU89z4qoCbPjdFM",
      "authorship_tag": "ABX9TyORWQoyouOJV/8bv6ppdT8w",
      "include_colab_link": true
    },
    "kernelspec": {
      "name": "python3",
      "display_name": "Python 3"
    },
    "language_info": {
      "name": "python"
    },
    "widgets": {
      "application/vnd.jupyter.widget-state+json": {
        "3f98027833254a79bffd14d52b8c1638": {
          "model_module": "@jupyter-widgets/controls",
          "model_name": "HBoxModel",
          "model_module_version": "1.5.0",
          "state": {
            "_dom_classes": [],
            "_model_module": "@jupyter-widgets/controls",
            "_model_module_version": "1.5.0",
            "_model_name": "HBoxModel",
            "_view_count": null,
            "_view_module": "@jupyter-widgets/controls",
            "_view_module_version": "1.5.0",
            "_view_name": "HBoxView",
            "box_style": "",
            "children": [
              "IPY_MODEL_474d50f912574ac3b759b7ec41df1565",
              "IPY_MODEL_bfe7a6ede6574e3bbd2e3024a0df1617",
              "IPY_MODEL_4c2e1aa2c6774b258948f47a1ff5b93a"
            ],
            "layout": "IPY_MODEL_d41ba1548e1e477eacbe8462fa83675a"
          }
        },
        "474d50f912574ac3b759b7ec41df1565": {
          "model_module": "@jupyter-widgets/controls",
          "model_name": "HTMLModel",
          "model_module_version": "1.5.0",
          "state": {
            "_dom_classes": [],
            "_model_module": "@jupyter-widgets/controls",
            "_model_module_version": "1.5.0",
            "_model_name": "HTMLModel",
            "_view_count": null,
            "_view_module": "@jupyter-widgets/controls",
            "_view_module_version": "1.5.0",
            "_view_name": "HTMLView",
            "description": "",
            "description_tooltip": null,
            "layout": "IPY_MODEL_4c0d2d43e22a4ae1ae891362aa84b2ca",
            "placeholder": "​",
            "style": "IPY_MODEL_d77dd47d3f724843b3c7aefc68a13365",
            "value": "(…)eleb/resolve/main/mean_var_norm_emb.ckpt: 100%"
          }
        },
        "bfe7a6ede6574e3bbd2e3024a0df1617": {
          "model_module": "@jupyter-widgets/controls",
          "model_name": "FloatProgressModel",
          "model_module_version": "1.5.0",
          "state": {
            "_dom_classes": [],
            "_model_module": "@jupyter-widgets/controls",
            "_model_module_version": "1.5.0",
            "_model_name": "FloatProgressModel",
            "_view_count": null,
            "_view_module": "@jupyter-widgets/controls",
            "_view_module_version": "1.5.0",
            "_view_name": "ProgressView",
            "bar_style": "success",
            "description": "",
            "description_tooltip": null,
            "layout": "IPY_MODEL_a9e14005b5bc4d3bae7f4e7d3f36d4fb",
            "max": 1921,
            "min": 0,
            "orientation": "horizontal",
            "style": "IPY_MODEL_7b934c9fb1364ac69d4f485a702a28ed",
            "value": 1921
          }
        },
        "4c2e1aa2c6774b258948f47a1ff5b93a": {
          "model_module": "@jupyter-widgets/controls",
          "model_name": "HTMLModel",
          "model_module_version": "1.5.0",
          "state": {
            "_dom_classes": [],
            "_model_module": "@jupyter-widgets/controls",
            "_model_module_version": "1.5.0",
            "_model_name": "HTMLModel",
            "_view_count": null,
            "_view_module": "@jupyter-widgets/controls",
            "_view_module_version": "1.5.0",
            "_view_name": "HTMLView",
            "description": "",
            "description_tooltip": null,
            "layout": "IPY_MODEL_2bd56afb43354c298227dce723833e75",
            "placeholder": "​",
            "style": "IPY_MODEL_354fbe289d7b4ee7a6b26898fce81334",
            "value": " 1.92k/1.92k [00:00&lt;00:00, 118kB/s]"
          }
        },
        "d41ba1548e1e477eacbe8462fa83675a": {
          "model_module": "@jupyter-widgets/base",
          "model_name": "LayoutModel",
          "model_module_version": "1.2.0",
          "state": {
            "_model_module": "@jupyter-widgets/base",
            "_model_module_version": "1.2.0",
            "_model_name": "LayoutModel",
            "_view_count": null,
            "_view_module": "@jupyter-widgets/base",
            "_view_module_version": "1.2.0",
            "_view_name": "LayoutView",
            "align_content": null,
            "align_items": null,
            "align_self": null,
            "border": null,
            "bottom": null,
            "display": null,
            "flex": null,
            "flex_flow": null,
            "grid_area": null,
            "grid_auto_columns": null,
            "grid_auto_flow": null,
            "grid_auto_rows": null,
            "grid_column": null,
            "grid_gap": null,
            "grid_row": null,
            "grid_template_areas": null,
            "grid_template_columns": null,
            "grid_template_rows": null,
            "height": null,
            "justify_content": null,
            "justify_items": null,
            "left": null,
            "margin": null,
            "max_height": null,
            "max_width": null,
            "min_height": null,
            "min_width": null,
            "object_fit": null,
            "object_position": null,
            "order": null,
            "overflow": null,
            "overflow_x": null,
            "overflow_y": null,
            "padding": null,
            "right": null,
            "top": null,
            "visibility": null,
            "width": null
          }
        },
        "4c0d2d43e22a4ae1ae891362aa84b2ca": {
          "model_module": "@jupyter-widgets/base",
          "model_name": "LayoutModel",
          "model_module_version": "1.2.0",
          "state": {
            "_model_module": "@jupyter-widgets/base",
            "_model_module_version": "1.2.0",
            "_model_name": "LayoutModel",
            "_view_count": null,
            "_view_module": "@jupyter-widgets/base",
            "_view_module_version": "1.2.0",
            "_view_name": "LayoutView",
            "align_content": null,
            "align_items": null,
            "align_self": null,
            "border": null,
            "bottom": null,
            "display": null,
            "flex": null,
            "flex_flow": null,
            "grid_area": null,
            "grid_auto_columns": null,
            "grid_auto_flow": null,
            "grid_auto_rows": null,
            "grid_column": null,
            "grid_gap": null,
            "grid_row": null,
            "grid_template_areas": null,
            "grid_template_columns": null,
            "grid_template_rows": null,
            "height": null,
            "justify_content": null,
            "justify_items": null,
            "left": null,
            "margin": null,
            "max_height": null,
            "max_width": null,
            "min_height": null,
            "min_width": null,
            "object_fit": null,
            "object_position": null,
            "order": null,
            "overflow": null,
            "overflow_x": null,
            "overflow_y": null,
            "padding": null,
            "right": null,
            "top": null,
            "visibility": null,
            "width": null
          }
        },
        "d77dd47d3f724843b3c7aefc68a13365": {
          "model_module": "@jupyter-widgets/controls",
          "model_name": "DescriptionStyleModel",
          "model_module_version": "1.5.0",
          "state": {
            "_model_module": "@jupyter-widgets/controls",
            "_model_module_version": "1.5.0",
            "_model_name": "DescriptionStyleModel",
            "_view_count": null,
            "_view_module": "@jupyter-widgets/base",
            "_view_module_version": "1.2.0",
            "_view_name": "StyleView",
            "description_width": ""
          }
        },
        "a9e14005b5bc4d3bae7f4e7d3f36d4fb": {
          "model_module": "@jupyter-widgets/base",
          "model_name": "LayoutModel",
          "model_module_version": "1.2.0",
          "state": {
            "_model_module": "@jupyter-widgets/base",
            "_model_module_version": "1.2.0",
            "_model_name": "LayoutModel",
            "_view_count": null,
            "_view_module": "@jupyter-widgets/base",
            "_view_module_version": "1.2.0",
            "_view_name": "LayoutView",
            "align_content": null,
            "align_items": null,
            "align_self": null,
            "border": null,
            "bottom": null,
            "display": null,
            "flex": null,
            "flex_flow": null,
            "grid_area": null,
            "grid_auto_columns": null,
            "grid_auto_flow": null,
            "grid_auto_rows": null,
            "grid_column": null,
            "grid_gap": null,
            "grid_row": null,
            "grid_template_areas": null,
            "grid_template_columns": null,
            "grid_template_rows": null,
            "height": null,
            "justify_content": null,
            "justify_items": null,
            "left": null,
            "margin": null,
            "max_height": null,
            "max_width": null,
            "min_height": null,
            "min_width": null,
            "object_fit": null,
            "object_position": null,
            "order": null,
            "overflow": null,
            "overflow_x": null,
            "overflow_y": null,
            "padding": null,
            "right": null,
            "top": null,
            "visibility": null,
            "width": null
          }
        },
        "7b934c9fb1364ac69d4f485a702a28ed": {
          "model_module": "@jupyter-widgets/controls",
          "model_name": "ProgressStyleModel",
          "model_module_version": "1.5.0",
          "state": {
            "_model_module": "@jupyter-widgets/controls",
            "_model_module_version": "1.5.0",
            "_model_name": "ProgressStyleModel",
            "_view_count": null,
            "_view_module": "@jupyter-widgets/base",
            "_view_module_version": "1.2.0",
            "_view_name": "StyleView",
            "bar_color": null,
            "description_width": ""
          }
        },
        "2bd56afb43354c298227dce723833e75": {
          "model_module": "@jupyter-widgets/base",
          "model_name": "LayoutModel",
          "model_module_version": "1.2.0",
          "state": {
            "_model_module": "@jupyter-widgets/base",
            "_model_module_version": "1.2.0",
            "_model_name": "LayoutModel",
            "_view_count": null,
            "_view_module": "@jupyter-widgets/base",
            "_view_module_version": "1.2.0",
            "_view_name": "LayoutView",
            "align_content": null,
            "align_items": null,
            "align_self": null,
            "border": null,
            "bottom": null,
            "display": null,
            "flex": null,
            "flex_flow": null,
            "grid_area": null,
            "grid_auto_columns": null,
            "grid_auto_flow": null,
            "grid_auto_rows": null,
            "grid_column": null,
            "grid_gap": null,
            "grid_row": null,
            "grid_template_areas": null,
            "grid_template_columns": null,
            "grid_template_rows": null,
            "height": null,
            "justify_content": null,
            "justify_items": null,
            "left": null,
            "margin": null,
            "max_height": null,
            "max_width": null,
            "min_height": null,
            "min_width": null,
            "object_fit": null,
            "object_position": null,
            "order": null,
            "overflow": null,
            "overflow_x": null,
            "overflow_y": null,
            "padding": null,
            "right": null,
            "top": null,
            "visibility": null,
            "width": null
          }
        },
        "354fbe289d7b4ee7a6b26898fce81334": {
          "model_module": "@jupyter-widgets/controls",
          "model_name": "DescriptionStyleModel",
          "model_module_version": "1.5.0",
          "state": {
            "_model_module": "@jupyter-widgets/controls",
            "_model_module_version": "1.5.0",
            "_model_name": "DescriptionStyleModel",
            "_view_count": null,
            "_view_module": "@jupyter-widgets/base",
            "_view_module_version": "1.2.0",
            "_view_name": "StyleView",
            "description_width": ""
          }
        },
        "c391f00db0bf4fa8830ae054849c13f9": {
          "model_module": "@jupyter-widgets/controls",
          "model_name": "HBoxModel",
          "model_module_version": "1.5.0",
          "state": {
            "_dom_classes": [],
            "_model_module": "@jupyter-widgets/controls",
            "_model_module_version": "1.5.0",
            "_model_name": "HBoxModel",
            "_view_count": null,
            "_view_module": "@jupyter-widgets/controls",
            "_view_module_version": "1.5.0",
            "_view_name": "HBoxView",
            "box_style": "",
            "children": [
              "IPY_MODEL_8bed4803eb39421ea2da8185ae1d76d3",
              "IPY_MODEL_bb7d1e7d91cd4a309b3eb988419116d5",
              "IPY_MODEL_a0fed1302b7a41c59fb421840d3ba50e"
            ],
            "layout": "IPY_MODEL_f1fdb54bcbe7490f9c4e3c5031a94a2b"
          }
        },
        "8bed4803eb39421ea2da8185ae1d76d3": {
          "model_module": "@jupyter-widgets/controls",
          "model_name": "HTMLModel",
          "model_module_version": "1.5.0",
          "state": {
            "_dom_classes": [],
            "_model_module": "@jupyter-widgets/controls",
            "_model_module_version": "1.5.0",
            "_model_name": "HTMLModel",
            "_view_count": null,
            "_view_module": "@jupyter-widgets/controls",
            "_view_module_version": "1.5.0",
            "_view_name": "HTMLView",
            "description": "",
            "description_tooltip": null,
            "layout": "IPY_MODEL_833b364ae7b64ded9d4365e55469341d",
            "placeholder": "​",
            "style": "IPY_MODEL_260d1ff6727241fa9c8ee14cce819931",
            "value": "classifier.ckpt: 100%"
          }
        },
        "bb7d1e7d91cd4a309b3eb988419116d5": {
          "model_module": "@jupyter-widgets/controls",
          "model_name": "FloatProgressModel",
          "model_module_version": "1.5.0",
          "state": {
            "_dom_classes": [],
            "_model_module": "@jupyter-widgets/controls",
            "_model_module_version": "1.5.0",
            "_model_name": "FloatProgressModel",
            "_view_count": null,
            "_view_module": "@jupyter-widgets/controls",
            "_view_module_version": "1.5.0",
            "_view_name": "ProgressView",
            "bar_style": "success",
            "description": "",
            "description_tooltip": null,
            "layout": "IPY_MODEL_4a135b0f1d3c452f8a162b5699449a98",
            "max": 5534328,
            "min": 0,
            "orientation": "horizontal",
            "style": "IPY_MODEL_97b945c7b4b44c52b299ba4eb1399e52",
            "value": 5534328
          }
        },
        "a0fed1302b7a41c59fb421840d3ba50e": {
          "model_module": "@jupyter-widgets/controls",
          "model_name": "HTMLModel",
          "model_module_version": "1.5.0",
          "state": {
            "_dom_classes": [],
            "_model_module": "@jupyter-widgets/controls",
            "_model_module_version": "1.5.0",
            "_model_name": "HTMLModel",
            "_view_count": null,
            "_view_module": "@jupyter-widgets/controls",
            "_view_module_version": "1.5.0",
            "_view_name": "HTMLView",
            "description": "",
            "description_tooltip": null,
            "layout": "IPY_MODEL_ce342ed5f5e74a259cea1c3fcfa558c2",
            "placeholder": "​",
            "style": "IPY_MODEL_57f089a9fe9f4416aa238969dd21bbc5",
            "value": " 5.53M/5.53M [00:00&lt;00:00, 133MB/s]"
          }
        },
        "f1fdb54bcbe7490f9c4e3c5031a94a2b": {
          "model_module": "@jupyter-widgets/base",
          "model_name": "LayoutModel",
          "model_module_version": "1.2.0",
          "state": {
            "_model_module": "@jupyter-widgets/base",
            "_model_module_version": "1.2.0",
            "_model_name": "LayoutModel",
            "_view_count": null,
            "_view_module": "@jupyter-widgets/base",
            "_view_module_version": "1.2.0",
            "_view_name": "LayoutView",
            "align_content": null,
            "align_items": null,
            "align_self": null,
            "border": null,
            "bottom": null,
            "display": null,
            "flex": null,
            "flex_flow": null,
            "grid_area": null,
            "grid_auto_columns": null,
            "grid_auto_flow": null,
            "grid_auto_rows": null,
            "grid_column": null,
            "grid_gap": null,
            "grid_row": null,
            "grid_template_areas": null,
            "grid_template_columns": null,
            "grid_template_rows": null,
            "height": null,
            "justify_content": null,
            "justify_items": null,
            "left": null,
            "margin": null,
            "max_height": null,
            "max_width": null,
            "min_height": null,
            "min_width": null,
            "object_fit": null,
            "object_position": null,
            "order": null,
            "overflow": null,
            "overflow_x": null,
            "overflow_y": null,
            "padding": null,
            "right": null,
            "top": null,
            "visibility": null,
            "width": null
          }
        },
        "833b364ae7b64ded9d4365e55469341d": {
          "model_module": "@jupyter-widgets/base",
          "model_name": "LayoutModel",
          "model_module_version": "1.2.0",
          "state": {
            "_model_module": "@jupyter-widgets/base",
            "_model_module_version": "1.2.0",
            "_model_name": "LayoutModel",
            "_view_count": null,
            "_view_module": "@jupyter-widgets/base",
            "_view_module_version": "1.2.0",
            "_view_name": "LayoutView",
            "align_content": null,
            "align_items": null,
            "align_self": null,
            "border": null,
            "bottom": null,
            "display": null,
            "flex": null,
            "flex_flow": null,
            "grid_area": null,
            "grid_auto_columns": null,
            "grid_auto_flow": null,
            "grid_auto_rows": null,
            "grid_column": null,
            "grid_gap": null,
            "grid_row": null,
            "grid_template_areas": null,
            "grid_template_columns": null,
            "grid_template_rows": null,
            "height": null,
            "justify_content": null,
            "justify_items": null,
            "left": null,
            "margin": null,
            "max_height": null,
            "max_width": null,
            "min_height": null,
            "min_width": null,
            "object_fit": null,
            "object_position": null,
            "order": null,
            "overflow": null,
            "overflow_x": null,
            "overflow_y": null,
            "padding": null,
            "right": null,
            "top": null,
            "visibility": null,
            "width": null
          }
        },
        "260d1ff6727241fa9c8ee14cce819931": {
          "model_module": "@jupyter-widgets/controls",
          "model_name": "DescriptionStyleModel",
          "model_module_version": "1.5.0",
          "state": {
            "_model_module": "@jupyter-widgets/controls",
            "_model_module_version": "1.5.0",
            "_model_name": "DescriptionStyleModel",
            "_view_count": null,
            "_view_module": "@jupyter-widgets/base",
            "_view_module_version": "1.2.0",
            "_view_name": "StyleView",
            "description_width": ""
          }
        },
        "4a135b0f1d3c452f8a162b5699449a98": {
          "model_module": "@jupyter-widgets/base",
          "model_name": "LayoutModel",
          "model_module_version": "1.2.0",
          "state": {
            "_model_module": "@jupyter-widgets/base",
            "_model_module_version": "1.2.0",
            "_model_name": "LayoutModel",
            "_view_count": null,
            "_view_module": "@jupyter-widgets/base",
            "_view_module_version": "1.2.0",
            "_view_name": "LayoutView",
            "align_content": null,
            "align_items": null,
            "align_self": null,
            "border": null,
            "bottom": null,
            "display": null,
            "flex": null,
            "flex_flow": null,
            "grid_area": null,
            "grid_auto_columns": null,
            "grid_auto_flow": null,
            "grid_auto_rows": null,
            "grid_column": null,
            "grid_gap": null,
            "grid_row": null,
            "grid_template_areas": null,
            "grid_template_columns": null,
            "grid_template_rows": null,
            "height": null,
            "justify_content": null,
            "justify_items": null,
            "left": null,
            "margin": null,
            "max_height": null,
            "max_width": null,
            "min_height": null,
            "min_width": null,
            "object_fit": null,
            "object_position": null,
            "order": null,
            "overflow": null,
            "overflow_x": null,
            "overflow_y": null,
            "padding": null,
            "right": null,
            "top": null,
            "visibility": null,
            "width": null
          }
        },
        "97b945c7b4b44c52b299ba4eb1399e52": {
          "model_module": "@jupyter-widgets/controls",
          "model_name": "ProgressStyleModel",
          "model_module_version": "1.5.0",
          "state": {
            "_model_module": "@jupyter-widgets/controls",
            "_model_module_version": "1.5.0",
            "_model_name": "ProgressStyleModel",
            "_view_count": null,
            "_view_module": "@jupyter-widgets/base",
            "_view_module_version": "1.2.0",
            "_view_name": "StyleView",
            "bar_color": null,
            "description_width": ""
          }
        },
        "ce342ed5f5e74a259cea1c3fcfa558c2": {
          "model_module": "@jupyter-widgets/base",
          "model_name": "LayoutModel",
          "model_module_version": "1.2.0",
          "state": {
            "_model_module": "@jupyter-widgets/base",
            "_model_module_version": "1.2.0",
            "_model_name": "LayoutModel",
            "_view_count": null,
            "_view_module": "@jupyter-widgets/base",
            "_view_module_version": "1.2.0",
            "_view_name": "LayoutView",
            "align_content": null,
            "align_items": null,
            "align_self": null,
            "border": null,
            "bottom": null,
            "display": null,
            "flex": null,
            "flex_flow": null,
            "grid_area": null,
            "grid_auto_columns": null,
            "grid_auto_flow": null,
            "grid_auto_rows": null,
            "grid_column": null,
            "grid_gap": null,
            "grid_row": null,
            "grid_template_areas": null,
            "grid_template_columns": null,
            "grid_template_rows": null,
            "height": null,
            "justify_content": null,
            "justify_items": null,
            "left": null,
            "margin": null,
            "max_height": null,
            "max_width": null,
            "min_height": null,
            "min_width": null,
            "object_fit": null,
            "object_position": null,
            "order": null,
            "overflow": null,
            "overflow_x": null,
            "overflow_y": null,
            "padding": null,
            "right": null,
            "top": null,
            "visibility": null,
            "width": null
          }
        },
        "57f089a9fe9f4416aa238969dd21bbc5": {
          "model_module": "@jupyter-widgets/controls",
          "model_name": "DescriptionStyleModel",
          "model_module_version": "1.5.0",
          "state": {
            "_model_module": "@jupyter-widgets/controls",
            "_model_module_version": "1.5.0",
            "_model_name": "DescriptionStyleModel",
            "_view_count": null,
            "_view_module": "@jupyter-widgets/base",
            "_view_module_version": "1.2.0",
            "_view_name": "StyleView",
            "description_width": ""
          }
        },
        "a137aa2965f249e5a48c98616312d6b0": {
          "model_module": "@jupyter-widgets/controls",
          "model_name": "HBoxModel",
          "model_module_version": "1.5.0",
          "state": {
            "_dom_classes": [],
            "_model_module": "@jupyter-widgets/controls",
            "_model_module_version": "1.5.0",
            "_model_name": "HBoxModel",
            "_view_count": null,
            "_view_module": "@jupyter-widgets/controls",
            "_view_module_version": "1.5.0",
            "_view_name": "HBoxView",
            "box_style": "",
            "children": [
              "IPY_MODEL_540c06361d0d42b2bbacafb5e9ed8610",
              "IPY_MODEL_11c6ae3257a04916a07e1e46250c60bf",
              "IPY_MODEL_71b550bad83f431189387a659e53f5ef"
            ],
            "layout": "IPY_MODEL_0bfc7c3590c6453aa37ec77142363439"
          }
        },
        "540c06361d0d42b2bbacafb5e9ed8610": {
          "model_module": "@jupyter-widgets/controls",
          "model_name": "HTMLModel",
          "model_module_version": "1.5.0",
          "state": {
            "_dom_classes": [],
            "_model_module": "@jupyter-widgets/controls",
            "_model_module_version": "1.5.0",
            "_model_name": "HTMLModel",
            "_view_count": null,
            "_view_module": "@jupyter-widgets/controls",
            "_view_module_version": "1.5.0",
            "_view_name": "HTMLView",
            "description": "",
            "description_tooltip": null,
            "layout": "IPY_MODEL_bb00b1c73a79449a98d24686fc5c968b",
            "placeholder": "​",
            "style": "IPY_MODEL_5d2ee78c4a274c7082c89c39b9591516",
            "value": "(…)-voxceleb/resolve/main/label_encoder.txt: 100%"
          }
        },
        "11c6ae3257a04916a07e1e46250c60bf": {
          "model_module": "@jupyter-widgets/controls",
          "model_name": "FloatProgressModel",
          "model_module_version": "1.5.0",
          "state": {
            "_dom_classes": [],
            "_model_module": "@jupyter-widgets/controls",
            "_model_module_version": "1.5.0",
            "_model_name": "FloatProgressModel",
            "_view_count": null,
            "_view_module": "@jupyter-widgets/controls",
            "_view_module_version": "1.5.0",
            "_view_name": "ProgressView",
            "bar_style": "success",
            "description": "",
            "description_tooltip": null,
            "layout": "IPY_MODEL_c292688685494eb5a352e2f5915f18a8",
            "max": 128619,
            "min": 0,
            "orientation": "horizontal",
            "style": "IPY_MODEL_48d69c553b6842008904d1c1d88ccc35",
            "value": 128619
          }
        },
        "71b550bad83f431189387a659e53f5ef": {
          "model_module": "@jupyter-widgets/controls",
          "model_name": "HTMLModel",
          "model_module_version": "1.5.0",
          "state": {
            "_dom_classes": [],
            "_model_module": "@jupyter-widgets/controls",
            "_model_module_version": "1.5.0",
            "_model_name": "HTMLModel",
            "_view_count": null,
            "_view_module": "@jupyter-widgets/controls",
            "_view_module_version": "1.5.0",
            "_view_name": "HTMLView",
            "description": "",
            "description_tooltip": null,
            "layout": "IPY_MODEL_fdc96ce141d849099ce44842fcd6cdf7",
            "placeholder": "​",
            "style": "IPY_MODEL_5b6f7c05bf294ef2a02c8ff7e39115ab",
            "value": " 129k/129k [00:00&lt;00:00, 792kB/s]"
          }
        },
        "0bfc7c3590c6453aa37ec77142363439": {
          "model_module": "@jupyter-widgets/base",
          "model_name": "LayoutModel",
          "model_module_version": "1.2.0",
          "state": {
            "_model_module": "@jupyter-widgets/base",
            "_model_module_version": "1.2.0",
            "_model_name": "LayoutModel",
            "_view_count": null,
            "_view_module": "@jupyter-widgets/base",
            "_view_module_version": "1.2.0",
            "_view_name": "LayoutView",
            "align_content": null,
            "align_items": null,
            "align_self": null,
            "border": null,
            "bottom": null,
            "display": null,
            "flex": null,
            "flex_flow": null,
            "grid_area": null,
            "grid_auto_columns": null,
            "grid_auto_flow": null,
            "grid_auto_rows": null,
            "grid_column": null,
            "grid_gap": null,
            "grid_row": null,
            "grid_template_areas": null,
            "grid_template_columns": null,
            "grid_template_rows": null,
            "height": null,
            "justify_content": null,
            "justify_items": null,
            "left": null,
            "margin": null,
            "max_height": null,
            "max_width": null,
            "min_height": null,
            "min_width": null,
            "object_fit": null,
            "object_position": null,
            "order": null,
            "overflow": null,
            "overflow_x": null,
            "overflow_y": null,
            "padding": null,
            "right": null,
            "top": null,
            "visibility": null,
            "width": null
          }
        },
        "bb00b1c73a79449a98d24686fc5c968b": {
          "model_module": "@jupyter-widgets/base",
          "model_name": "LayoutModel",
          "model_module_version": "1.2.0",
          "state": {
            "_model_module": "@jupyter-widgets/base",
            "_model_module_version": "1.2.0",
            "_model_name": "LayoutModel",
            "_view_count": null,
            "_view_module": "@jupyter-widgets/base",
            "_view_module_version": "1.2.0",
            "_view_name": "LayoutView",
            "align_content": null,
            "align_items": null,
            "align_self": null,
            "border": null,
            "bottom": null,
            "display": null,
            "flex": null,
            "flex_flow": null,
            "grid_area": null,
            "grid_auto_columns": null,
            "grid_auto_flow": null,
            "grid_auto_rows": null,
            "grid_column": null,
            "grid_gap": null,
            "grid_row": null,
            "grid_template_areas": null,
            "grid_template_columns": null,
            "grid_template_rows": null,
            "height": null,
            "justify_content": null,
            "justify_items": null,
            "left": null,
            "margin": null,
            "max_height": null,
            "max_width": null,
            "min_height": null,
            "min_width": null,
            "object_fit": null,
            "object_position": null,
            "order": null,
            "overflow": null,
            "overflow_x": null,
            "overflow_y": null,
            "padding": null,
            "right": null,
            "top": null,
            "visibility": null,
            "width": null
          }
        },
        "5d2ee78c4a274c7082c89c39b9591516": {
          "model_module": "@jupyter-widgets/controls",
          "model_name": "DescriptionStyleModel",
          "model_module_version": "1.5.0",
          "state": {
            "_model_module": "@jupyter-widgets/controls",
            "_model_module_version": "1.5.0",
            "_model_name": "DescriptionStyleModel",
            "_view_count": null,
            "_view_module": "@jupyter-widgets/base",
            "_view_module_version": "1.2.0",
            "_view_name": "StyleView",
            "description_width": ""
          }
        },
        "c292688685494eb5a352e2f5915f18a8": {
          "model_module": "@jupyter-widgets/base",
          "model_name": "LayoutModel",
          "model_module_version": "1.2.0",
          "state": {
            "_model_module": "@jupyter-widgets/base",
            "_model_module_version": "1.2.0",
            "_model_name": "LayoutModel",
            "_view_count": null,
            "_view_module": "@jupyter-widgets/base",
            "_view_module_version": "1.2.0",
            "_view_name": "LayoutView",
            "align_content": null,
            "align_items": null,
            "align_self": null,
            "border": null,
            "bottom": null,
            "display": null,
            "flex": null,
            "flex_flow": null,
            "grid_area": null,
            "grid_auto_columns": null,
            "grid_auto_flow": null,
            "grid_auto_rows": null,
            "grid_column": null,
            "grid_gap": null,
            "grid_row": null,
            "grid_template_areas": null,
            "grid_template_columns": null,
            "grid_template_rows": null,
            "height": null,
            "justify_content": null,
            "justify_items": null,
            "left": null,
            "margin": null,
            "max_height": null,
            "max_width": null,
            "min_height": null,
            "min_width": null,
            "object_fit": null,
            "object_position": null,
            "order": null,
            "overflow": null,
            "overflow_x": null,
            "overflow_y": null,
            "padding": null,
            "right": null,
            "top": null,
            "visibility": null,
            "width": null
          }
        },
        "48d69c553b6842008904d1c1d88ccc35": {
          "model_module": "@jupyter-widgets/controls",
          "model_name": "ProgressStyleModel",
          "model_module_version": "1.5.0",
          "state": {
            "_model_module": "@jupyter-widgets/controls",
            "_model_module_version": "1.5.0",
            "_model_name": "ProgressStyleModel",
            "_view_count": null,
            "_view_module": "@jupyter-widgets/base",
            "_view_module_version": "1.2.0",
            "_view_name": "StyleView",
            "bar_color": null,
            "description_width": ""
          }
        },
        "fdc96ce141d849099ce44842fcd6cdf7": {
          "model_module": "@jupyter-widgets/base",
          "model_name": "LayoutModel",
          "model_module_version": "1.2.0",
          "state": {
            "_model_module": "@jupyter-widgets/base",
            "_model_module_version": "1.2.0",
            "_model_name": "LayoutModel",
            "_view_count": null,
            "_view_module": "@jupyter-widgets/base",
            "_view_module_version": "1.2.0",
            "_view_name": "LayoutView",
            "align_content": null,
            "align_items": null,
            "align_self": null,
            "border": null,
            "bottom": null,
            "display": null,
            "flex": null,
            "flex_flow": null,
            "grid_area": null,
            "grid_auto_columns": null,
            "grid_auto_flow": null,
            "grid_auto_rows": null,
            "grid_column": null,
            "grid_gap": null,
            "grid_row": null,
            "grid_template_areas": null,
            "grid_template_columns": null,
            "grid_template_rows": null,
            "height": null,
            "justify_content": null,
            "justify_items": null,
            "left": null,
            "margin": null,
            "max_height": null,
            "max_width": null,
            "min_height": null,
            "min_width": null,
            "object_fit": null,
            "object_position": null,
            "order": null,
            "overflow": null,
            "overflow_x": null,
            "overflow_y": null,
            "padding": null,
            "right": null,
            "top": null,
            "visibility": null,
            "width": null
          }
        },
        "5b6f7c05bf294ef2a02c8ff7e39115ab": {
          "model_module": "@jupyter-widgets/controls",
          "model_name": "DescriptionStyleModel",
          "model_module_version": "1.5.0",
          "state": {
            "_model_module": "@jupyter-widgets/controls",
            "_model_module_version": "1.5.0",
            "_model_name": "DescriptionStyleModel",
            "_view_count": null,
            "_view_module": "@jupyter-widgets/base",
            "_view_module_version": "1.2.0",
            "_view_name": "StyleView",
            "description_width": ""
          }
        }
      }
    }
  },
  "cells": [
    {
      "cell_type": "markdown",
      "metadata": {
        "id": "view-in-github",
        "colab_type": "text"
      },
      "source": [
        "<a href=\"https://colab.research.google.com/github/wh1t3tea/VoiceVeirification/blob/main/Augmentation_Treshold.ipynb\" target=\"_parent\"><img src=\"https://colab.research.google.com/assets/colab-badge.svg\" alt=\"Open In Colab\"/></a>"
      ]
    },
    {
      "cell_type": "code",
      "execution_count": null,
      "metadata": {
        "id": "x366Pybh72ie"
      },
      "outputs": [],
      "source": [
        "!pip install speechbrain\n",
        "!pip install audiomentations"
      ]
    },
    {
      "cell_type": "code",
      "source": [
        "!pip install torch-audiomentations"
      ],
      "metadata": {
        "id": "8nb-of5fC4Ct"
      },
      "execution_count": null,
      "outputs": []
    },
    {
      "cell_type": "code",
      "source": [
        "import torch\n",
        "import torchaudio\n",
        "from librosa import load, resample\n",
        "from speechbrain.pretrained import EncoderClassifier\n",
        "from sklearn.metrics import accuracy_score\n",
        "from sklearn.model_selection import train_test_split\n",
        "from torch.utils.data import DataLoader, Dataset\n",
        "import scipy\n",
        "import matplotlib.pyplot as plt\n",
        "import seaborn as sns\n",
        "import numpy as np\n",
        "from torchaudio import datasets\n",
        "from torch_audiomentations import Compose, AddBackgroundNoise, PitchShift, TimeInversion, PolarityInversion, Gain\n",
        "from IPython.display import Audio"
      ],
      "metadata": {
        "id": "TqtHAU4q8EIe"
      },
      "execution_count": null,
      "outputs": []
    },
    {
      "cell_type": "code",
      "source": [
        "apply_augmentation = Compose(\n",
        "    transforms=[\n",
        "        Gain(\n",
        "            min_gain_in_db=-15.0,\n",
        "            max_gain_in_db=5.0,\n",
        "            p=0.5,\n",
        "        ),\n",
        "        PolarityInversion(p=0.5),\n",
        "        AddBackgroundNoise(background_paths=\"/content/drive/MyDrive/audio\",\n",
        "                            min_snr_in_db=3.0,\n",
        "                            max_snr_in_db=10.0,\n",
        "                            target_rate=16000,\n",
        "                            p=1.0),\n",
        "        PitchShift(min_transpose_semitones=-2, max_transpose_semitones=2, p=0.5, sample_rate=16000),\n",
        "    ]\n",
        ")\n",
        "\n"
      ],
      "metadata": {
        "id": "GhkSXEOS9QCt"
      },
      "execution_count": null,
      "outputs": []
    },
    {
      "cell_type": "code",
      "source": [
        "# Testing augmentation pipeline\n",
        "example = torch.tensor(data=load('/content/drive/MyDrive/Голос.mp3', sr=16000)[0], dtype=torch.float32).to('cuda')\n",
        "\n",
        "augmented_example = apply_augmentation(example.reshape(1, 1, len(example)), sample_rate=16000)"
      ],
      "metadata": {
        "id": "QtDz0KwZElX1"
      },
      "execution_count": null,
      "outputs": []
    },
    {
      "cell_type": "code",
      "source": [
        "from IPython.utils.text import num_ini_spaces\n",
        "def get_augmented_wav(wav, wav_sr):\n",
        "  augmented_example = apply_augmentation(wav.reshape(1, 1, len(wav)), sample_rate=wav_sr)\n",
        "  example = augmented_example.squeeze(0).squeeze(0)\n",
        "  return example"
      ],
      "metadata": {
        "id": "SrQ_MiCldYku"
      },
      "execution_count": null,
      "outputs": []
    },
    {
      "cell_type": "code",
      "source": [
        "wav_1 = example\n",
        "wav_2 = play_wav(wav_1, 16000)"
      ],
      "metadata": {
        "id": "wvWKZPJknm_h"
      },
      "execution_count": null,
      "outputs": []
    },
    {
      "cell_type": "code",
      "source": [
        "wav_1.shape, wav_2.shape"
      ],
      "metadata": {
        "colab": {
          "base_uri": "https://localhost:8080/"
        },
        "id": "bLz6Fy_jpDJi",
        "outputId": "ef07d729-99bd-4bf5-a729-65628d6cf61f"
      },
      "execution_count": null,
      "outputs": [
        {
          "output_type": "execute_result",
          "data": {
            "text/plain": [
              "(torch.Size([160000]), torch.Size([160000]))"
            ]
          },
          "metadata": {},
          "execution_count": 106
        }
      ]
    },
    {
      "cell_type": "code",
      "source": [
        "classifier = EncoderClassifier.from_hparams(source=\"speechbrain/spkrec-ecapa-voxceleb\")"
      ],
      "metadata": {
        "id": "_Nj2azJcn6iN"
      },
      "execution_count": null,
      "outputs": []
    },
    {
      "cell_type": "code",
      "source": [
        "# @title Функция для рассчета косинусового расстояния между векторами (эмбеллингами)\n",
        "'''На данном этапе, treshold был выбран 0.38'''\n",
        "\n",
        "\n",
        "def count_cosine_distance(wav_1, wav_2, sr):\n",
        "  embedding_1 = classifier.encode_batch(wav_1).reshape(192).to('cuda')\n",
        "  embedding_2 = classifier.encode_batch(wav_2).reshape(192).to('cuda')\n",
        "\n",
        "  cosine_dist = scipy.spatial.distance.cosine(embedding_1, embedding_2)\n",
        "  if cosine_dist < 0.38:\n",
        "    pred = True\n",
        "  else:\n",
        "    pred = False\n",
        "  return cosine_dist, pred\n"
      ],
      "metadata": {
        "id": "ogil8GRAkfTs"
      },
      "execution_count": null,
      "outputs": []
    },
    {
      "cell_type": "code",
      "source": [
        "count_cosine_distance(wav_1, wav_2, 16000)"
      ],
      "metadata": {
        "colab": {
          "base_uri": "https://localhost:8080/"
        },
        "id": "HauNQ5NZkTkk",
        "outputId": "940c7b7f-6b35-4cea-e12f-03f90749ac86"
      },
      "execution_count": null,
      "outputs": [
        {
          "output_type": "execute_result",
          "data": {
            "text/plain": [
              "(0.07607877254486084, True)"
            ]
          },
          "metadata": {},
          "execution_count": 120
        }
      ]
    },
    {
      "cell_type": "code",
      "source": [
        "# @title Функция для создания датасета из аугментированных данных (на валидацию)\n",
        "\n",
        "def augmented_datagen(wav, num_examples, sr=16000):\n",
        "  augmented_data = []\n",
        "\n",
        "  for epoch in range(num_examples):\n",
        "\n",
        "    aug_audio = get_augmented_wav(wav, sr)\n",
        "    augmented_data.append(aug_audio)\n",
        "\n",
        "  return augmented_data"
      ],
      "metadata": {
        "id": "gyF3FEkSoyRB"
      },
      "execution_count": null,
      "outputs": []
    },
    {
      "cell_type": "code",
      "source": [
        "augmented_data = augmented_datagen(example, 500)"
      ],
      "metadata": {
        "id": "bS21X-EltmPs"
      },
      "execution_count": null,
      "outputs": []
    },
    {
      "cell_type": "code",
      "source": [
        "preds = []\n",
        "for epoch in range(len(augmented_data)):\n",
        "  dist, pred = count_cosine_distance(wav_1, augmented_data[epoch], 16000)\n",
        "  preds.append(pred)"
      ],
      "metadata": {
        "id": "Q8ehpdoatvdY"
      },
      "execution_count": null,
      "outputs": []
    },
    {
      "cell_type": "code",
      "source": [
        "preds.count(True)"
      ],
      "metadata": {
        "colab": {
          "base_uri": "https://localhost:8080/"
        },
        "id": "Z1cwgt5EwRWb",
        "outputId": "291debfc-b965-4a68-a467-ddb4d99984b2"
      },
      "execution_count": null,
      "outputs": [
        {
          "output_type": "execute_result",
          "data": {
            "text/plain": [
              "500"
            ]
          },
          "metadata": {},
          "execution_count": 127
        }
      ]
    },
    {
      "cell_type": "code",
      "source": [
        "import os"
      ],
      "metadata": {
        "id": "t4lb2Tc51Feh"
      },
      "execution_count": null,
      "outputs": []
    },
    {
      "cell_type": "code",
      "source": [
        "'''Данные негативного класса взяты из открытого датасета common_voice_ru'''\n",
        "\n",
        "negative_data = []\n",
        "\n",
        "data_path = '/content/drive/MyDrive/false_data'\n",
        "\n",
        "for filename in os.listdir(data_path)[:1000]:\n",
        "  filepath = os.path.join(data_path, filename)\n",
        "  wav = torch.tensor(data=load(filepath, sr=16000)[0], dtype=torch.float32).to('cuda')\n",
        "  negative_data.append(wav)"
      ],
      "metadata": {
        "id": "2Dlwvy5EwYCa"
      },
      "execution_count": null,
      "outputs": []
    },
    {
      "cell_type": "code",
      "source": [
        "''' Создаются лейблы для вычисления accuracy score модели '''\n",
        "\n",
        "labels = np.array([1] * 500 + [0] * 1000)"
      ],
      "metadata": {
        "id": "TbBYcbhF2ZbZ"
      },
      "execution_count": null,
      "outputs": []
    },
    {
      "cell_type": "code",
      "source": [
        "len(labels), labels.shape"
      ],
      "metadata": {
        "colab": {
          "base_uri": "https://localhost:8080/"
        },
        "id": "BqL8oGRI2wQG",
        "outputId": "e04bed83-1a3e-4cc2-9970-bb71ac085347"
      },
      "execution_count": null,
      "outputs": [
        {
          "output_type": "execute_result",
          "data": {
            "text/plain": [
              "(1500, (1500,))"
            ]
          },
          "metadata": {},
          "execution_count": 134
        }
      ]
    },
    {
      "cell_type": "code",
      "source": [
        "len(negative_data), negative_data[0]"
      ],
      "metadata": {
        "colab": {
          "base_uri": "https://localhost:8080/"
        },
        "id": "n85T_45P2x8j",
        "outputId": "f9ed3322-2ef1-4cb3-ea3d-38e2ecc4bcf4"
      },
      "execution_count": null,
      "outputs": [
        {
          "output_type": "execute_result",
          "data": {
            "text/plain": [
              "(1000,\n",
              " tensor([-4.3201e-12, -7.2760e-12,  0.0000e+00,  ...,  1.8190e-12,\n",
              "          0.0000e+00,  1.8190e-12], device='cuda:0'))"
            ]
          },
          "metadata": {},
          "execution_count": 140
        }
      ]
    },
    {
      "cell_type": "code",
      "source": [
        "len(augmented_data), augmented_data[0]"
      ],
      "metadata": {
        "colab": {
          "base_uri": "https://localhost:8080/"
        },
        "id": "bPUADdw-4X0B",
        "outputId": "c2c6ac80-4b08-4685-9241-ae75d7384e80"
      },
      "execution_count": null,
      "outputs": [
        {
          "output_type": "execute_result",
          "data": {
            "text/plain": [
              "(500,\n",
              " tensor([-0.0060,  0.0086,  0.0105,  ..., -0.0003, -0.0003, -0.0002],\n",
              "        device='cuda:0'))"
            ]
          },
          "metadata": {},
          "execution_count": 141
        }
      ]
    },
    {
      "cell_type": "code",
      "source": [
        "validation_data = augmented_data + negative_data\n",
        "len(validation_data), type(validation_data)"
      ],
      "metadata": {
        "colab": {
          "base_uri": "https://localhost:8080/"
        },
        "id": "zM5gteVs4jl1",
        "outputId": "f8bb6d28-2c26-43aa-fc25-113259d8215f"
      },
      "execution_count": null,
      "outputs": [
        {
          "output_type": "execute_result",
          "data": {
            "text/plain": [
              "(1500, list)"
            ]
          },
          "metadata": {},
          "execution_count": 144
        }
      ]
    },
    {
      "cell_type": "code",
      "source": [
        "'''Сохранение данных на валидацию'''\n",
        "\n",
        "torch.save(validation_data, f=\"/content/drive/MyDrive/validation data/data.pt\")"
      ],
      "metadata": {
        "id": "CqvRWkiP43sL"
      },
      "execution_count": null,
      "outputs": []
    },
    {
      "cell_type": "code",
      "source": [
        "model_preds = []\n",
        "\n",
        "for epoch in range(len(validation_data)):\n",
        "  prediction = count_cosine_distance(wav_1, validation_data[epoch], 16000)\n",
        "\n",
        "  model_preds.append(prediction)"
      ],
      "metadata": {
        "id": "HApdS3LW8OIR"
      },
      "execution_count": null,
      "outputs": []
    },
    {
      "cell_type": "code",
      "source": [
        "predictions = []\n",
        "distances = []\n",
        "for dist, pred in model_preds:\n",
        "  distances.append(dist)\n",
        "  if pred == True:\n",
        "    predictions.append(1)\n",
        "  else:\n",
        "    predictions.append(0)"
      ],
      "metadata": {
        "id": "Kc29Sqxy8oQn"
      },
      "execution_count": null,
      "outputs": []
    },
    {
      "cell_type": "code",
      "source": [
        "accuracy_score(labels, predictions)"
      ],
      "metadata": {
        "colab": {
          "base_uri": "https://localhost:8080/"
        },
        "id": "ujOQCVmHFOm6",
        "outputId": "4a0a82d6-0be6-46fe-d1f4-4fe5732e956b"
      },
      "execution_count": null,
      "outputs": [
        {
          "output_type": "execute_result",
          "data": {
            "text/plain": [
              "1.0"
            ]
          },
          "metadata": {},
          "execution_count": 154
        }
      ]
    },
    {
      "cell_type": "code",
      "source": [
        "''' Среднее косинусовое расстояние между вектором таргета и векторами\n",
        "    отнясищихся к негативному классу - 0.8188505178317428,\n",
        "    а для представителей положительного класса - 0.1426826995611191.'''\n",
        "\n",
        "np.array(distances[500:]).mean(), np.array(distances[:500]).mean()"
      ],
      "metadata": {
        "colab": {
          "base_uri": "https://localhost:8080/"
        },
        "id": "3Yg5WCZlHodY",
        "outputId": "7d810d32-3a67-497b-9cf3-d9031ea0ed85"
      },
      "execution_count": null,
      "outputs": [
        {
          "output_type": "execute_result",
          "data": {
            "text/plain": [
              "0.1426826995611191"
            ]
          },
          "metadata": {},
          "execution_count": 158
        }
      ]
    },
    {
      "cell_type": "code",
      "source": [
        "plt.figure(figsize=(7, 7), dpi=200)\n",
        "plt.scatter(range(1500), distances, c=predictions)\n",
        "plt.ylabel('Cosine distance')\n",
        "plt.legend(['True data', 'False data'])\n",
        "plt.title('Dependence of labels on distance')"
      ],
      "metadata": {
        "colab": {
          "base_uri": "https://localhost:8080/",
          "height": 984
        },
        "id": "MyHpIcs6I2Tl",
        "outputId": "3224d288-b69a-4fd4-eee1-4ce24d56616b"
      },
      "execution_count": null,
      "outputs": [
        {
          "output_type": "execute_result",
          "data": {
            "text/plain": [
              "Text(0.5, 1.0, 'Dependence of labels on distance')"
            ]
          },
          "metadata": {},
          "execution_count": 185
        },
        {
          "output_type": "display_data",
          "data": {
            "text/plain": [
              "<Figure size 1400x1400 with 1 Axes>"
            ],
            "image/png": "[encoded data removed]"
          },
          "metadata": {}
        }
      ]
    },
    {
      "cell_type": "code",
      "source": [
        "'''Точность модели при treshold = 0.38 на данной выборке составила 100%.\n",
        "   Такой высокий результат может быть вызван тем,\n",
        "   что схожесть валидационных данных и голоса таргета недостаточна высока.\n",
        "   В таком случае стоит попробовать подобрать более подходящие данные\n",
        "   для негативного класса.'''"
      ],
      "metadata": {
        "id": "mpvwUZxEFyMc"
      },
      "execution_count": null,
      "outputs": []
    },
    {
      "cell_type": "code",
      "source": [
        "example = torch.tensor(data=load('/content/drive/MyDrive/000bf0cd-75f4-4086-92b9-da6bcd199aec.mp3', sr=16000)[0], dtype=torch.float32).to('cuda')\n",
        "count_cosine_distance_th(target_voice, example, 16000, 0.38)"
      ],
      "metadata": {
        "colab": {
          "base_uri": "https://localhost:8080/"
        },
        "id": "1u4DOtoWNuZc",
        "outputId": "4c2786fa-9a6c-4c87-85ef-8fc063b2b7de"
      },
      "execution_count": null,
      "outputs": [
        {
          "output_type": "execute_result",
          "data": {
            "text/plain": [
              "(0.7040590941905975, False)"
            ]
          },
          "metadata": {},
          "execution_count": 75
        }
      ]
    },
    {
      "cell_type": "code",
      "source": [
        "''' Для удобства при дальнейших эксперементах с пороговым значением в аргументы функции добавлен treshold'''\n",
        "\n",
        "def count_cosine_distance_th(wav_1, wav_2, sr, treshold, classifier=classifier):\n",
        "  embedding_1 = classifier.encode_batch(wav_1).reshape(192).to('cpu')\n",
        "  embedding_2 = classifier.encode_batch(wav_2).reshape(192).to('cpu')\n",
        "\n",
        "  cosine_dist = scipy.spatial.distance.cosine(embedding_1, embedding_2)\n",
        "  if cosine_dist < treshold:\n",
        "    pred = True\n",
        "  else:\n",
        "    pred = False\n",
        "  return cosine_dist, pred"
      ],
      "metadata": {
        "id": "veGyzD6ZODH1"
      },
      "execution_count": null,
      "outputs": []
    },
    {
      "cell_type": "code",
      "source": [
        "data = torch.load('/content/drive/MyDrive/validation data/data.pt')"
      ],
      "metadata": {
        "id": "6cGNQ0Kebd05"
      },
      "execution_count": null,
      "outputs": []
    },
    {
      "cell_type": "code",
      "source": [
        "def validation(model_preds, labels):\n",
        "  predictions = []\n",
        "  distances = []\n",
        "  for dist, pred in model_preds:\n",
        "    distances.append(dist)\n",
        "    if pred == True:\n",
        "      predictions.append(1)\n",
        "    else:\n",
        "      predictions.append(0)\n",
        "  return accuracy_score(labels, predictions)"
      ],
      "metadata": {
        "id": "u5yawYQsb8QA"
      },
      "execution_count": null,
      "outputs": []
    },
    {
      "cell_type": "code",
      "source": [
        "labels = np.array([1] * 500 + [0] * 1000)"
      ],
      "metadata": {
        "id": "iEG7K59LcmCQ"
      },
      "execution_count": null,
      "outputs": []
    },
    {
      "cell_type": "code",
      "source": [
        "def model_predict(wav_1, data, treshold):\n",
        "  model_preds = []\n",
        "\n",
        "  for epoch in range(len(data)):\n",
        "    prediction = count_cosine_distance_th(wav_1,\n",
        "                                       data[epoch],\n",
        "                                       16000,\n",
        "                                       treshold)\n",
        "\n",
        "    model_preds.append(prediction)\n",
        "  return model_preds\n"
      ],
      "metadata": {
        "id": "bnogxa_KcjKi"
      },
      "execution_count": null,
      "outputs": []
    },
    {
      "cell_type": "code",
      "source": [
        "target_voice = torch.tensor(data=load('/content/drive/MyDrive/Голос.mp3', sr=16000)[0],\n",
        "                            dtype=torch.float32).to('cuda')"
      ],
      "metadata": {
        "id": "N7O7VlZtdWWR"
      },
      "execution_count": null,
      "outputs": []
    },
    {
      "cell_type": "code",
      "source": [
        "classifier = EncoderClassifier.from_hparams(source=\"speechbrain/spkrec-ecapa-voxceleb\",\n",
        "                                            run_opts={\"device\":\"cuda:0\"})"
      ],
      "metadata": {
        "id": "nmp87NxSfNcQ",
        "colab": {
          "base_uri": "https://localhost:8080/",
          "height": 113,
          "referenced_widgets": [
            "3f98027833254a79bffd14d52b8c1638",
            "474d50f912574ac3b759b7ec41df1565",
            "bfe7a6ede6574e3bbd2e3024a0df1617",
            "4c2e1aa2c6774b258948f47a1ff5b93a",
            "d41ba1548e1e477eacbe8462fa83675a",
            "4c0d2d43e22a4ae1ae891362aa84b2ca",
            "d77dd47d3f724843b3c7aefc68a13365",
            "a9e14005b5bc4d3bae7f4e7d3f36d4fb",
            "7b934c9fb1364ac69d4f485a702a28ed",
            "2bd56afb43354c298227dce723833e75",
            "354fbe289d7b4ee7a6b26898fce81334",
            "c391f00db0bf4fa8830ae054849c13f9",
            "8bed4803eb39421ea2da8185ae1d76d3",
            "bb7d1e7d91cd4a309b3eb988419116d5",
            "a0fed1302b7a41c59fb421840d3ba50e",
            "f1fdb54bcbe7490f9c4e3c5031a94a2b",
            "833b364ae7b64ded9d4365e55469341d",
            "260d1ff6727241fa9c8ee14cce819931",
            "4a135b0f1d3c452f8a162b5699449a98",
            "97b945c7b4b44c52b299ba4eb1399e52",
            "ce342ed5f5e74a259cea1c3fcfa558c2",
            "57f089a9fe9f4416aa238969dd21bbc5",
            "a137aa2965f249e5a48c98616312d6b0",
            "540c06361d0d42b2bbacafb5e9ed8610",
            "11c6ae3257a04916a07e1e46250c60bf",
            "71b550bad83f431189387a659e53f5ef",
            "0bfc7c3590c6453aa37ec77142363439",
            "bb00b1c73a79449a98d24686fc5c968b",
            "5d2ee78c4a274c7082c89c39b9591516",
            "c292688685494eb5a352e2f5915f18a8",
            "48d69c553b6842008904d1c1d88ccc35",
            "fdc96ce141d849099ce44842fcd6cdf7",
            "5b6f7c05bf294ef2a02c8ff7e39115ab"
          ]
        },
        "outputId": "d5ce7547-ef19-4e68-f60d-efe3b5da12d5"
      },
      "execution_count": null,
      "outputs": [
        {
          "output_type": "display_data",
          "data": {
            "text/plain": [
              "(…)eleb/resolve/main/mean_var_norm_emb.ckpt:   0%|          | 0.00/1.92k [00:00<?, ?B/s]"
            ],
            "application/vnd.jupyter.widget-view+json": {
              "version_major": 2,
              "version_minor": 0,
              "model_id": "3f98027833254a79bffd14d52b8c1638"
            }
          },
          "metadata": {}
        },
        {
          "output_type": "display_data",
          "data": {
            "text/plain": [
              "classifier.ckpt:   0%|          | 0.00/5.53M [00:00<?, ?B/s]"
            ],
            "application/vnd.jupyter.widget-view+json": {
              "version_major": 2,
              "version_minor": 0,
              "model_id": "c391f00db0bf4fa8830ae054849c13f9"
            }
          },
          "metadata": {}
        },
        {
          "output_type": "display_data",
          "data": {
            "text/plain": [
              "(…)-voxceleb/resolve/main/label_encoder.txt:   0%|          | 0.00/129k [00:00<?, ?B/s]"
            ],
            "application/vnd.jupyter.widget-view+json": {
              "version_major": 2,
              "version_minor": 0,
              "model_id": "a137aa2965f249e5a48c98616312d6b0"
            }
          },
          "metadata": {}
        }
      ]
    },
    {
      "cell_type": "code",
      "source": [
        "''' При treshold=0.28'''\n",
        "predictions = model_predict(target_voice, data, 0.28)\n",
        "accuracy = validation(predictions, labels)"
      ],
      "metadata": {
        "id": "iZDwVq-icxRb"
      },
      "execution_count": null,
      "outputs": []
    },
    {
      "cell_type": "code",
      "source": [
        "accuracy_scores_th = {0.28:0.994, 0.3:1.0}"
      ],
      "metadata": {
        "id": "uN_BcHWAkOxg"
      },
      "execution_count": null,
      "outputs": []
    },
    {
      "cell_type": "code",
      "source": [
        "accuracy_scores_th"
      ],
      "metadata": {
        "colab": {
          "base_uri": "https://localhost:8080/"
        },
        "id": "oLI5ZFpQkOJM",
        "outputId": "653e022d-6998-49fd-a55a-4d9698280957"
      },
      "execution_count": null,
      "outputs": [
        {
          "output_type": "execute_result",
          "data": {
            "text/plain": [
              "{'0.38': 1.0, '0.28': 0.994}"
            ]
          },
          "metadata": {},
          "execution_count": 30
        }
      ]
    },
    {
      "cell_type": "code",
      "source": [
        "accuracy"
      ],
      "metadata": {
        "colab": {
          "base_uri": "https://localhost:8080/"
        },
        "id": "2Jl2wn6TiX-q",
        "outputId": "06e97ec4-779c-4d6d-9b85-b542c15e9f9c"
      },
      "execution_count": null,
      "outputs": [
        {
          "output_type": "execute_result",
          "data": {
            "text/plain": [
              "0.994"
            ]
          },
          "metadata": {},
          "execution_count": 28
        }
      ]
    },
    {
      "cell_type": "code",
      "source": [
        "'''treshold=0.48'''\n",
        "predictions = model_predict(target_voice, data, 0.48)\n",
        "accuracy = validation(predictions, labels)\n",
        "accuracy_scores_th[0.48] = accuracy\n",
        "print(accuracy)"
      ],
      "metadata": {
        "colab": {
          "base_uri": "https://localhost:8080/"
        },
        "id": "0h7ZBWsWkDgB",
        "outputId": "8753933e-22e0-4efb-9119-f96e9ebfaab8"
      },
      "execution_count": null,
      "outputs": [
        {
          "output_type": "stream",
          "name": "stdout",
          "text": [
            "1.0\n"
          ]
        }
      ]
    },
    {
      "cell_type": "code",
      "source": [
        "'''treshold=0.58'''\n",
        "predictions = model_predict(target_voice, data, 0.58)\n",
        "accuracy = validation(predictions, labels)\n",
        "accuracy_scores_th[0.58] = accuracy\n",
        "print(accuracy)"
      ],
      "metadata": {
        "colab": {
          "base_uri": "https://localhost:8080/"
        },
        "id": "SVTaaXhYk5R_",
        "outputId": "90cf6168-40b6-46aa-bc73-04d930436184"
      },
      "execution_count": null,
      "outputs": [
        {
          "output_type": "stream",
          "name": "stdout",
          "text": [
            "0.992\n"
          ]
        }
      ]
    },
    {
      "cell_type": "code",
      "source": [
        "'''treshold=0.2'''\n",
        "predictions = model_predict(target_voice, data, 0.2)\n",
        "accuracy = validation(predictions, labels)\n",
        "accuracy_scores_th[0.2] = accuracy\n",
        "print(accuracy)"
      ],
      "metadata": {
        "colab": {
          "base_uri": "https://localhost:8080/"
        },
        "id": "MngjDgiclWIT",
        "outputId": "e4c93c37-6890-49c0-f8e6-3f0a1f9685e4"
      },
      "execution_count": null,
      "outputs": [
        {
          "output_type": "stream",
          "name": "stdout",
          "text": [
            "0.92\n"
          ]
        }
      ]
    },
    {
      "cell_type": "code",
      "source": [
        "'''treshold=0.3'''\n",
        "predictions = model_predict(target_voice, data, 0.3)\n",
        "accuracy = validation(predictions, labels)\n",
        "accuracy_scores_th[0.3] = accuracy\n",
        "print(accuracy)"
      ],
      "metadata": {
        "colab": {
          "base_uri": "https://localhost:8080/"
        },
        "id": "ZXMMWsRAlul4",
        "outputId": "abc3f72c-300e-4df5-9111-194c1f3f4de4"
      },
      "execution_count": null,
      "outputs": [
        {
          "output_type": "stream",
          "name": "stdout",
          "text": [
            "0.9993333333333333\n"
          ]
        }
      ]
    },
    {
      "cell_type": "code",
      "source": [
        "'''treshold=0.4'''\n",
        "predictions = model_predict(target_voice, data, 0.4)\n",
        "accuracy = validation(predictions, labels)\n",
        "accuracy_scores_th[0.4] = accuracy\n",
        "print(accuracy)"
      ],
      "metadata": {
        "colab": {
          "base_uri": "https://localhost:8080/"
        },
        "id": "11NKKvbdly1x",
        "outputId": "bdda2f40-ede1-4c2d-da44-54d8cd960253"
      },
      "execution_count": null,
      "outputs": [
        {
          "output_type": "stream",
          "name": "stdout",
          "text": [
            "1.0\n"
          ]
        }
      ]
    },
    {
      "cell_type": "code",
      "source": [
        "'''treshold=0.5'''\n",
        "predictions = model_predict(target_voice, data, 0.5)\n",
        "accuracy = validation(predictions, labels)\n",
        "accuracy_scores_th[0.5] = accuracy\n",
        "print(accuracy)"
      ],
      "metadata": {
        "colab": {
          "base_uri": "https://localhost:8080/"
        },
        "id": "60v4qr7xl32h",
        "outputId": "e73b38d6-d8cb-45d6-d793-c6f4e1ad0682"
      },
      "execution_count": null,
      "outputs": [
        {
          "output_type": "stream",
          "name": "stdout",
          "text": [
            "1.0\n"
          ]
        }
      ]
    },
    {
      "cell_type": "code",
      "source": [
        "acc = np.array(sorted(accuracy_scores_th.items()))"
      ],
      "metadata": {
        "id": "2Piu2KN0mvXL"
      },
      "execution_count": null,
      "outputs": []
    },
    {
      "cell_type": "code",
      "source": [
        "sns.barplot(x=acc[:, 0], y=acc[:, 1])\n",
        "plt.xlabel('Treshold')\n",
        "plt.ylabel('Accuracy')"
      ],
      "metadata": {
        "colab": {
          "base_uri": "https://localhost:8080/",
          "height": 466
        },
        "id": "Hk112ezRmdqf",
        "outputId": "ee3d5ad5-7bcd-457a-f479-d1f4cbd73e54"
      },
      "execution_count": null,
      "outputs": [
        {
          "output_type": "execute_result",
          "data": {
            "text/plain": [
              "Text(0, 0.5, 'Accuracy')"
            ]
          },
          "metadata": {},
          "execution_count": 71
        },
        {
          "output_type": "display_data",
          "data": {
            "text/plain": [
              "<Figure size 640x480 with 1 Axes>"
            ],
            "image/png": "[encoded data removed]"
          },
          "metadata": {}
        }
      ]
    },
    {
      "cell_type": "code",
      "source": [
        "sns.lineplot(x=acc[:, 0], y=acc[:, 1]);\n",
        "plt.xticks(acc[:, 0], rotation=90);\n",
        "plt.xlabel('Treshold')\n",
        "plt.ylabel('Accuracy')"
      ],
      "metadata": {
        "colab": {
          "base_uri": "https://localhost:8080/",
          "height": 483
        },
        "id": "R3OuLg6xmtMM",
        "outputId": "3457220f-532d-497f-c62a-23137dfdf621"
      },
      "execution_count": null,
      "outputs": [
        {
          "output_type": "execute_result",
          "data": {
            "text/plain": [
              "Text(0, 0.5, 'Accuracy')"
            ]
          },
          "metadata": {},
          "execution_count": 73
        },
        {
          "output_type": "display_data",
          "data": {
            "text/plain": [
              "<Figure size 640x480 with 1 Axes>"
            ],
            "image/png": "[encoded data removed]"
          },
          "metadata": {}
        }
      ]
    },
    {
      "cell_type": "markdown",
      "source": [
        "Как можно заметить по графикам точность максимальна при значениях\n",
        "   treshold от 0.38 до 0.5\n",
        "   Но так, как наша задача связана с верификацией следует в первую очередь\n",
        "   минимизировать значение False Positive.\n",
        "   Поэтому treshold для решения аналогичной реальной задачи следует выбирать из диапозона 0.38-0.4, так как\n",
        "   при всех значениях от 0.38-0.5 точность достигла 1.0, но с поднятием\n",
        "   treshold возрастает риск максимизировать количество FP значений.\n"
      ],
      "metadata": {
        "id": "tLA_Q6cMxe72"
      }
    },
    {
      "cell_type": "markdown",
      "source": [
        "Взятие значений treshold < 0.3 рекмоендуется только в тех случаях, когда ошибки FP недопустимы, так как модель может слишком часто не узнавать голос таргета. Взятие значений выше 0.4 может повлечь увеличение ошибок FN, но так как моя задача заключалась в максимизации общей точности, значение treshold будет взято 0.5\n",
        "\n"
      ],
      "metadata": {
        "id": "fdzIKFWPtoL7"
      }
    },
    {
      "cell_type": "code",
      "source": [
        "import os\n",
        "test_data = []\n",
        "wrong_files = []\n",
        "data_path = '/content/drive/MyDrive/test data/files'\n",
        "for index, filename in enumerate(sorted(os.listdir(data_path))):\n",
        "  try:\n",
        "    exmpl = torch.tensor(data=load(os.path.join(data_path, filename), sr=16000)[0],\n",
        "                        dtype=torch.float32).to('cuda')\n",
        "    test_data.append([filename, exmpl])\n",
        "  except Exception:\n",
        "    wrong_files.append((filename, index))"
      ],
      "metadata": {
        "id": "BjFPDunJzLSW"
      },
      "execution_count": null,
      "outputs": []
    },
    {
      "cell_type": "code",
      "source": [
        "wrong_files"
      ],
      "metadata": {
        "colab": {
          "base_uri": "https://localhost:8080/"
        },
        "id": "Qu4H31a_2qI-",
        "outputId": "1b013be2-a1e7-41f3-9f00-6d616734455d"
      },
      "execution_count": null,
      "outputs": [
        {
          "output_type": "execute_result",
          "data": {
            "text/plain": [
              "[('00bbc6d2-7536-4fa7-ae5e-31a1ed7a8d94.mp3', 270),\n",
              " ('00bf7ace-f3f9-4ecc-a6d6-3a4f66cbdfec.mp3', 278),\n",
              " ('0183d8f1-cdd5-4817-bbd4-cdb681cbdade.mp3', 562),\n",
              " ('01904186-aa75-4432-8604-02749a858570.mp3', 581)]"
            ]
          },
          "metadata": {},
          "execution_count": 18
        }
      ]
    },
    {
      "cell_type": "code",
      "source": [
        "print(wrong_files)"
      ],
      "metadata": {
        "colab": {
          "base_uri": "https://localhost:8080/"
        },
        "id": "zQ1MpOz13SHR",
        "outputId": "56c4b1b9-a855-44cf-b8af-fc9e2058881f"
      },
      "execution_count": null,
      "outputs": [
        {
          "output_type": "stream",
          "name": "stdout",
          "text": [
            "[('files', 0)]\n"
          ]
        }
      ]
    },
    {
      "cell_type": "code",
      "source": [
        "test_data"
      ],
      "metadata": {
        "colab": {
          "base_uri": "https://localhost:8080/"
        },
        "id": "rrBa_AUn3VES",
        "outputId": "d1404db2-3c4c-4458-d986-0ea1fe90d95c"
      },
      "execution_count": null,
      "outputs": [
        {
          "output_type": "execute_result",
          "data": {
            "text/plain": [
              "[]"
            ]
          },
          "metadata": {},
          "execution_count": 15
        }
      ]
    },
    {
      "cell_type": "code",
      "source": [
        "def model_predict_valid(wav_1, data, treshold):\n",
        "  model_preds = []\n",
        "\n",
        "  for epoch in range(len(data)):\n",
        "    prediction = count_cosine_distance_th(wav_1,\n",
        "                                       data[epoch][1],\n",
        "                                       16000,\n",
        "                                       treshold)\n",
        "\n",
        "    model_preds.append(prediction)\n",
        "  return model_preds\n"
      ],
      "metadata": {
        "id": "1YGhhned-uva"
      },
      "execution_count": null,
      "outputs": []
    },
    {
      "cell_type": "code",
      "source": [
        "test_preds = model_predict_valid(target_voice, test_data, 0.5)"
      ],
      "metadata": {
        "id": "xJKIiXoStjVg"
      },
      "execution_count": null,
      "outputs": []
    },
    {
      "cell_type": "code",
      "source": [
        "test_preds_labels = [1 if x == True else 0 for x in test_preds]"
      ],
      "metadata": {
        "id": "htluo1act7g3"
      },
      "execution_count": null,
      "outputs": []
    },
    {
      "cell_type": "code",
      "source": [
        "info_lst = []\n",
        "for index, value in enumerate(test_data):\n",
        "  info_lst.append([test_preds[index], test_data[index]])"
      ],
      "metadata": {
        "id": "dDqgPCD7tKDh"
      },
      "execution_count": null,
      "outputs": []
    },
    {
      "cell_type": "code",
      "source": [
        "distances = [x for x in info_lst if 0.4 < x[0][0] < 0.5]"
      ],
      "metadata": {
        "id": "feDYYeW9mOG2"
      },
      "execution_count": null,
      "outputs": []
    },
    {
      "cell_type": "code",
      "source": [
        "filenames = [x[1][0] for x in distances]"
      ],
      "metadata": {
        "id": "3H0EW2nFsQoV"
      },
      "execution_count": null,
      "outputs": []
    },
    {
      "cell_type": "code",
      "source": [
        "preds = [x[1] for x in test_preds]"
      ],
      "metadata": {
        "id": "nBYm75jctdlL"
      },
      "execution_count": null,
      "outputs": []
    },
    {
      "cell_type": "code",
      "source": [
        "preds.count(True)"
      ],
      "metadata": {
        "colab": {
          "base_uri": "https://localhost:8080/"
        },
        "id": "PojjC4totzsF",
        "outputId": "a3bc43f4-0264-4447-f51a-61eaf261799e"
      },
      "execution_count": null,
      "outputs": [
        {
          "output_type": "execute_result",
          "data": {
            "text/plain": [
              "250"
            ]
          },
          "metadata": {},
          "execution_count": 25
        }
      ]
    },
    {
      "cell_type": "code",
      "source": [
        "torch.save([1 if x == True else 0 for x in preds], f='/content/drive/MyDrive/preds/preds.pt')"
      ],
      "metadata": {
        "id": "PKenzwrNt9UC"
      },
      "execution_count": null,
      "outputs": []
    },
    {
      "cell_type": "code",
      "source": [
        "preds_txt = [1 if x == True else 0 for x in preds]"
      ],
      "metadata": {
        "id": "LUOZniELuZgg"
      },
      "execution_count": null,
      "outputs": []
    },
    {
      "cell_type": "code",
      "source": [
        "import json\n",
        "\n",
        "with open('/content/preds.txt', 'w') as fw:\n",
        "    # записываем\n",
        "    json.dump(preds_txt, fw)"
      ],
      "metadata": {
        "id": "TknfClVHvPLm"
      },
      "execution_count": null,
      "outputs": []
    },
    {
      "cell_type": "code",
      "source": [
        "mass = torch.load('/content/drive/MyDrive/preds/preds.pt')"
      ],
      "metadata": {
        "id": "-OUbs5O_kj_P"
      },
      "execution_count": 4,
      "outputs": []
    },
    {
      "cell_type": "code",
      "source": [
        "from librosa import load"
      ],
      "metadata": {
        "id": "ltCa7Wl-lgFU"
      },
      "execution_count": 9,
      "outputs": []
    },
    {
      "cell_type": "code",
      "source": [
        "import os\n",
        "test_data = []\n",
        "wrong_files = []\n",
        "data_path = '/content/drive/MyDrive/test data/files'\n",
        "for index, filename in enumerate(sorted(os.listdir(data_path))):\n",
        "  try:\n",
        "    exmpl = torch.tensor(data=load(os.path.join(data_path, filename), sr=16000)[0],\n",
        "                        dtype=torch.float32)\n",
        "    test_data.append(filename)\n",
        "  except Exception:\n",
        "    wrong_files.append((filename, index))"
      ],
      "metadata": {
        "colab": {
          "base_uri": "https://localhost:8080/"
        },
        "id": "hd7Ue6eglDKc",
        "outputId": "90a10140-dfc9-48a5-8ff8-d3c3ef27bd13"
      },
      "execution_count": 10,
      "outputs": [
        {
          "output_type": "stream",
          "name": "stderr",
          "text": [
            "<ipython-input-10-c7030e62c89d>:7: UserWarning: PySoundFile failed. Trying audioread instead.\n",
            "  exmpl = torch.tensor(data=load(os.path.join(data_path, filename), sr=16000)[0],\n",
            "/usr/local/lib/python3.10/dist-packages/librosa/core/audio.py:183: FutureWarning: librosa.core.audio.__audioread_load\n",
            "\tDeprecated as of librosa version 0.10.0.\n",
            "\tIt will be removed in librosa version 1.0.\n",
            "  y, sr_native = __audioread_load(path, offset, duration, dtype)\n"
          ]
        }
      ]
    },
    {
      "cell_type": "code",
      "source": [
        "for i in range(len(test_data)):\n",
        "  mass[i] = f'{test_data[i]} {str(mass[i])}\\n'"
      ],
      "metadata": {
        "id": "wr0fZhXVl0xk"
      },
      "execution_count": 14,
      "outputs": []
    },
    {
      "cell_type": "code",
      "source": [
        "with open('/content/drive/MyDrive/finalpreds.txt', 'w') as f:\n",
        "  for row in mass:\n",
        "    f.write(row)\n",
        "    f.write('\\n')\n"
      ],
      "metadata": {
        "id": "HT3rSAT3lWob"
      },
      "execution_count": 16,
      "outputs": []
    }
  ]
}